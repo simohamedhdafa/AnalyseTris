{
 "cells": [
  {
   "cell_type": "code",
   "execution_count": 113,
   "metadata": {},
   "outputs": [],
   "source": [
    "import random\n",
    "import matplotlib.pyplot as plt"
   ]
  },
  {
   "cell_type": "markdown",
   "metadata": {},
   "source": [
    "# Analyse du tri par Sélection"
   ]
  },
  {
   "cell_type": "code",
   "execution_count": 114,
   "metadata": {},
   "outputs": [],
   "source": [
    "def selection_sort(l):\n",
    "    \"\"\"implements the selection elementary sort algorithm\"\"\"\n",
    "    for i in range(len(l)-1):\n",
    "        indice_min = i\n",
    "        for j in range(i, len(l)):\n",
    "            if l[j] < l[indice_min]:\n",
    "                l[indice_min], l[j] = l[j], l[indice_min]\n",
    "    return l\n",
    "\n",
    "def selection_ops_compt(l):\n",
    "    \"\"\"compteur selection_sort\"\"\"\n",
    "    comp = 0\n",
    "    echa = 0\n",
    "    for i in range(len(l)-1):\n",
    "        indice_min = i\n",
    "        for j in range(i, len(l)):\n",
    "            comp += 1\n",
    "            if l[j] < l[indice_min]:\n",
    "                echa +=1\n",
    "                l[indice_min], l[j] = l[j], l[indice_min]\n",
    "    return comp + echa"
   ]
  },
  {
   "cell_type": "code",
   "execution_count": 115,
   "metadata": {},
   "outputs": [
    {
     "name": "stdout",
     "output_type": "stream",
     "text": [
      "[19, 9, 10, 5, 17, 7, 4, 15, 23, 8, 21, 17, 13, 15, 16, 8, 8, 5, 22, 19, 10, 18, 9, 8, 17]\n",
      "[4, 5, 5, 7, 8, 8, 8, 8, 9, 9, 10, 10, 13, 15, 15, 16, 17, 17, 17, 18, 19, 19, 21, 22, 23]\n"
     ]
    }
   ],
   "source": [
    "l = list()\n",
    "for _ in range(25):\n",
    "    l.append(random.randint(0, 25))\n",
    "print(l)\n",
    "l = selection_sort(l)\n",
    "print(l)"
   ]
  },
  {
   "cell_type": "code",
   "execution_count": 116,
   "metadata": {},
   "outputs": [],
   "source": [
    "def complexites(listes, algo_compt):\n",
    "    return [(len(x), algo_compt(x)) for x in listes]"
   ]
  },
  {
   "cell_type": "code",
   "execution_count": 117,
   "metadata": {},
   "outputs": [],
   "source": [
    "def creer_liste(N):\n",
    "    l = list()\n",
    "    for _ in range(N):\n",
    "        l.append(random.randint(0, 3*N))\n",
    "    return l"
   ]
  },
  {
   "cell_type": "code",
   "execution_count": 118,
   "metadata": {},
   "outputs": [],
   "source": [
    "tailles = (n for n in range(0, 2000, 100))\n",
    "ls = [creer_liste(t) for t in tailles]"
   ]
  },
  {
   "cell_type": "code",
   "execution_count": 119,
   "metadata": {},
   "outputs": [
    {
     "data": {
      "image/png": "[encoded data removed]",
      "text/plain": [
       "<Figure size 432x288 with 1 Axes>"
      ]
     },
     "metadata": {
      "needs_background": "light"
     },
     "output_type": "display_data"
    }
   ],
   "source": [
    "C = complexites(ls, selection_ops_compt)\n",
    "\n",
    "x = [c[0] for c in C]\n",
    "y = [c[1] for c in C]\n",
    "\n",
    "plt.scatter(x,y)\n",
    "\n",
    "plt.title('Nuage de points avec Matplotlib')\n",
    "plt.xlabel('x')\n",
    "plt.ylabel('y')\n",
    "\n",
    "plt.show()"
   ]
  },
  {
   "cell_type": "markdown",
   "metadata": {},
   "source": [
    "# Analyse du tri à Bulles"
   ]
  },
  {
   "cell_type": "code",
   "execution_count": 120,
   "metadata": {},
   "outputs": [],
   "source": [
    "def bubble_sort(l):\n",
    "    \"\"\"implements the bubble elementary sort\"\"\"\n",
    "    for i in range(len(l)):\n",
    "        for j in range(len(l)-1, i, -1):\n",
    "            if l[j] < l[j-1]:\n",
    "                l[j], l[j-1] = l[j-1], l[j]\n",
    "    return l\n",
    "\n",
    "def bubble_ops_compt(l):\n",
    "    \"\"\"compteur bubble sort\"\"\"\n",
    "    comp = 0\n",
    "    echa = 0\n",
    "    for i in range(len(l)):\n",
    "        for j in range(len(l)-1, i, -1):\n",
    "            comp += 1\n",
    "            if l[j] < l[j-1]:\n",
    "                echa += 1\n",
    "                l[j], l[j-1] = l[j-1], l[j]\n",
    "    return comp + echa"
   ]
  },
  {
   "cell_type": "code",
   "execution_count": 121,
   "metadata": {},
   "outputs": [
    {
     "name": "stdout",
     "output_type": "stream",
     "text": [
      "[11, 3, 19, 9, 20, 20, 14, 1, 14, 24, 16, 11, 11, 25, 20, 15, 15, 7, 4, 5, 8, 24, 14, 6, 1]\n",
      "[1, 1, 3, 4, 5, 6, 7, 8, 9, 11, 11, 11, 14, 14, 14, 15, 15, 16, 19, 20, 20, 20, 24, 24, 25]\n"
     ]
    }
   ],
   "source": [
    "l = list()\n",
    "for _ in range(25):\n",
    "    l.append(random.randint(0, 25))\n",
    "print(l)\n",
    "l = bubble_sort(l)\n",
    "print(l)"
   ]
  },
  {
   "cell_type": "code",
   "execution_count": 122,
   "metadata": {},
   "outputs": [
    {
     "data": {
      "image/png": "[encoded data removed]",
      "text/plain": [
       "<Figure size 432x288 with 1 Axes>"
      ]
     },
     "metadata": {
      "needs_background": "light"
     },
     "output_type": "display_data"
    }
   ],
   "source": [
    "C = complexites(ls, bubble_ops_compt)\n",
    "\n",
    "x = [c[0] for c in C]\n",
    "y = [c[1] for c in C]\n",
    "\n",
    "plt.scatter(x,y)\n",
    "\n",
    "plt.title('Nuage de points avec Matplotlib')\n",
    "plt.xlabel('x')\n",
    "plt.ylabel('y')\n",
    "\n",
    "plt.show()"
   ]
  },
  {
   "cell_type": "markdown",
   "metadata": {},
   "source": [
    "# Analyse du tri par Insertion"
   ]
  },
  {
   "cell_type": "code",
   "execution_count": 138,
   "metadata": {},
   "outputs": [],
   "source": [
    "def insertion_sort(l): \n",
    "    for i in range(1, len(l)):\n",
    "        key = l[i]\n",
    "        j = i-1\n",
    "        while j >= 0 and key < l[j] :\n",
    "            l[j + 1] = l[j]\n",
    "            j -= 1\n",
    "        l[j + 1] = key \n",
    "    return l      \n",
    "\n",
    "def insertion_ops_compt(l): \n",
    "    comp = 0\n",
    "    affe = 0\n",
    "    for i in range(1, len(l)):\n",
    "        key = l[i]\n",
    "        j = i-1\n",
    "        affe += 2\n",
    "        while j >= 0 and key < l[j] :\n",
    "            comp += 1\n",
    "            l[j + 1] = l[j]\n",
    "            j -= 1\n",
    "            affe += 2\n",
    "        l[j + 1] = key \n",
    "        affe += 1\n",
    "    return comp + affe"
   ]
  },
  {
   "cell_type": "code",
   "execution_count": 139,
   "metadata": {},
   "outputs": [
    {
     "name": "stdout",
     "output_type": "stream",
     "text": [
      "[18, 14, 2, 21, 19, 9, 25, 16, 8, 4, 1, 3, 12, 3, 14, 8, 7, 8, 5, 9, 1, 16, 8, 16, 1]\n",
      "[1, 1, 1, 2, 3, 3, 4, 5, 7, 8, 8, 8, 8, 9, 9, 12, 14, 14, 16, 16, 16, 18, 19, 21, 25]\n"
     ]
    }
   ],
   "source": [
    "l = list()\n",
    "for _ in range(25):\n",
    "    l.append(random.randint(0, 25))\n",
    "print(l)\n",
    "l = insertion_sort(l)\n",
    "print(l)"
   ]
  },
  {
   "cell_type": "code",
   "execution_count": 140,
   "metadata": {},
   "outputs": [
    {
     "data": {
      "image/png": "[encoded data removed]",
      "text/plain": [
       "<Figure size 432x288 with 1 Axes>"
      ]
     },
     "metadata": {
      "needs_background": "light"
     },
     "output_type": "display_data"
    }
   ],
   "source": [
    "C = complexites(ls, insertion_ops_compt)\n",
    "\n",
    "x = [c[0] for c in C]\n",
    "y = [c[1] for c in C]\n",
    "\n",
    "plt.scatter(x,y)\n",
    "\n",
    "plt.title('Nuage de points avec Matplotlib')\n",
    "plt.xlabel('x')\n",
    "plt.ylabel('y')\n",
    "\n",
    "plt.show()"
   ]
  },
  {
   "cell_type": "code",
   "execution_count": null,
   "metadata": {},
   "outputs": [],
   "source": []
  }
 ],
 "metadata": {
  "kernelspec": {
   "display_name": "Python 3",
   "language": "python",
   "name": "python3"
  },
  "language_info": {
   "codemirror_mode": {
    "name": "ipython",
    "version": 3
   },
   "file_extension": ".py",
   "mimetype": "text/x-python",
   "name": "python",
   "nbconvert_exporter": "python",
   "pygments_lexer": "ipython3",
   "version": "3.8.3"
  }
 },
 "nbformat": 4,
 "nbformat_minor": 4
}
